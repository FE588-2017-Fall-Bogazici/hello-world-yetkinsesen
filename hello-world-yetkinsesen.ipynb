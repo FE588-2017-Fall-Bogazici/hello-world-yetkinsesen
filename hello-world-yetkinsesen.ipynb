{
 "cells": [
  {
   "cell_type": "code",
   "execution_count": 28,
   "metadata": {},
   "outputs": [
    {
     "name": "stdout",
     "output_type": "stream",
     "text": [
      "Yetkin Şeşen\n"
     ]
    }
   ],
   "source": [
    "print(\"Yetkin Şeşen\")"
   ]
  },
  {
   "cell_type": "code",
   "execution_count": 38,
   "metadata": {},
   "outputs": [
    {
     "name": "stdout",
     "output_type": "stream",
     "text": [
      "0.1 -3.69\n",
      "0.2 -3.36\n",
      "0.30000000000000004 -3.01\n",
      "0.4 -2.6399999999999997\n",
      "0.5 -2.25\n",
      "0.6 -1.8400000000000003\n",
      "0.7 -1.4100000000000006\n",
      "0.7999999999999999 -0.96\n",
      "0.8999999999999999 -0.4900000000000002\n",
      "0.9999999999999999 -8.881784197001252e-16\n"
     ]
    }
   ],
   "source": [
    "x =0.1\n",
    "\n",
    "for i in range(0,10):\n",
    "    print(x,x**2+3*x-4)\n",
    "    x +=0.1"
   ]
  },
  {
   "cell_type": "code",
   "execution_count": null,
   "metadata": {
    "collapsed": true
   },
   "outputs": [],
   "source": []
  }
 ],
 "metadata": {
  "kernelspec": {
   "display_name": "Python 3",
   "language": "python",
   "name": "python3"
  },
  "language_info": {
   "codemirror_mode": {
    "name": "ipython",
    "version": 3
   },
   "file_extension": ".py",
   "mimetype": "text/x-python",
   "name": "python",
   "nbconvert_exporter": "python",
   "pygments_lexer": "ipython3",
   "version": "3.6.1"
  }
 },
 "nbformat": 4,
 "nbformat_minor": 2
}
